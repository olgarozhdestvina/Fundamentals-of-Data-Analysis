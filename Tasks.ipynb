{
 "cells": [
  {
   "cell_type": "markdown",
   "metadata": {},
   "source": [
    "# Tasks 2020 \n",
    "### [ Fundamentals of Data Analysis Module GMIT 2020 ]\n",
    "\n",
    "<img align=\"left\" width=\"300\" height=\"300\" src=\"https://www.wardyit.com/wp-content/uploads/data-analysis-fundamentals-using-excel.png\">"
   ]
  },
  {
   "cell_type": "markdown",
   "metadata": {},
   "source": [
    "Below are my solutions to the Task assessment.\n",
    "\n",
    "Completed by: *Olga Rozhdestvina (G00387844@gmit.ie)*\n",
    "___"
   ]
  },
  {
   "cell_type": "markdown",
   "metadata": {},
   "source": [
    "## Table of Contents\n",
    "* [Task 1](#task1)\n",
    "    * [Test of the function](#Test_of_the_function1)\n",
    "* [Task 2](#task2)\n",
    "    * [Test of the function](#Test_of_the_function2)\n",
    "* [Task 3](#task3)\n",
    "    * [Test of the function](#Test_of_the_function3)\n",
    "* [Task 4](#task4)\n",
    "    * [Test of the function](#Test_of_the_function4)\n",
    "___"
   ]
  },
  {
   "cell_type": "markdown",
   "metadata": {},
   "source": [
    "### __TASK 1__: *Dictionary of unique items with the number of appearance from a list.*  <a name=\"task1\"></a>\n",
    "\n",
    "To complete this task we would need to iterate over the list checking on unique items as keys and then count and store the corresponding number of times each item appears as values in the dictionary. [1]\n",
    "\n",
    "> 1. https://www.geeksforgeeks.org/counting-the-frequencies-in-a-list-using-dictionary-in-python/"
   ]
  },
  {
   "cell_type": "code",
   "execution_count": 1,
   "metadata": {},
   "outputs": [],
   "source": [
    "def counts(l):\n",
    "    \"\"\"\n",
    "    Function that takes a list as an input and returns a dictionary of unique items with the number of appearance\n",
    "    \"\"\"\n",
    "    # Creating an empty dictionary\n",
    "    dic = {}\n",
    "    # Loop through items in the list\n",
    "    for i in l:\n",
    "        # Checking if items are in the dictionary\n",
    "        if i in dic:\n",
    "            # Count the number of times each item appears\n",
    "            dic[i] += 1\n",
    "        else:\n",
    "            dic[i] = 1\n",
    "    # Output the dictionary\n",
    "    return dic"
   ]
  },
  {
   "cell_type": "markdown",
   "metadata": {},
   "source": [
    "<br>\n",
    "\n",
    "##### Test of the function <a name=\"Test_of_the_function1\"></a>\n",
    "Here is a test of the above function with the proposed in the task list ['A', 'A', 'B', 'C', 'A']"
   ]
  },
  {
   "cell_type": "code",
   "execution_count": 2,
   "metadata": {},
   "outputs": [
    {
     "data": {
      "text/plain": [
       "{'A': 3, 'B': 1, 'C': 1}"
      ]
     },
     "execution_count": 2,
     "metadata": {},
     "output_type": "execute_result"
    }
   ],
   "source": [
    "counts(['A', 'A', 'B', 'C', 'A'])"
   ]
  },
  {
   "cell_type": "markdown",
   "metadata": {},
   "source": [
    "<br>\n",
    "\n",
    "***\n",
    "### __TASK 2__: *Dice roll simulation*  <a name=\"task2\"></a>\n",
    "\n",
    "<img align=\"left\" width=\"300\" height=\"90\" src=\"https://www.pngkit.com/png/full/417-4178711_animated-dice-more-animated-dice-animated-cards-dice.png\">"
   ]
  },
  {
   "cell_type": "code",
   "execution_count": 3,
   "metadata": {},
   "outputs": [],
   "source": [
    "# For generating random numbers\n",
    "import random as r\n",
    "# Package for plotting.\n",
    "import matplotlib.pyplot as plt\n",
    "# Another package for plotting.\n",
    "import seaborn as sns\n",
    "\n",
    "# Colour scheme and styles for plots.\n",
    "sns.set_theme(palette=\"Set2\", context=\"paper\", font_scale=1.5)\n",
    "\n",
    "# Better sized plots.\n",
    "plt.rcParams['figure.figsize'] = (10, 6)"
   ]
  },
  {
   "cell_type": "code",
   "execution_count": 4,
   "metadata": {},
   "outputs": [],
   "source": [
    "def dicerolls(n):\n",
    "    \"\"\"\n",
    "    Function that simulates randomly rolling k dice n times\n",
    "    and keeps track of each total face value\n",
    "    \"\"\"\n",
    "    # Initialize the list of rolls\n",
    "    rolls = []\n",
    "    # Loop through the number of times the dice is rolled\n",
    "    for i in range(n):\n",
    "        # Choose randomly a number between 1 and 6, inclusively:\n",
    "        dice = r.randint(1, 6)\n",
    "        # Add to list of rolls\n",
    "        rolls.append(dice)\n",
    "    # Sort the list in ascending order. \n",
    "    rolls = sorted(rolls)\n",
    "    # Create a dictunary\n",
    "    dic = {}\n",
    "    # Loop through items in the list\n",
    "    for i in rolls:\n",
    "        # Checking if items are in the dictionary\n",
    "        if i in dic:\n",
    "            # Count the number of times each item appears\n",
    "            dic[i] += 1\n",
    "        else:\n",
    "            dic[i] = 1\n",
    "    # Output the dictionary\n",
    "    return dic"
   ]
  },
  {
   "cell_type": "markdown",
   "metadata": {},
   "source": [
    "<br>\n",
    "\n",
    "##### Test of the function <a name=\"Test_of_the_function2\"></a>\n",
    "Here is a test of the above function where k number of dices is rolled n number of times"
   ]
  },
  {
   "cell_type": "code",
   "execution_count": 6,
   "metadata": {},
   "outputs": [
    {
     "data": {
      "text/plain": [
       "{1: 161, 2: 175, 3: 173, 4: 143, 5: 166, 6: 182}"
      ]
     },
     "execution_count": 6,
     "metadata": {},
     "output_type": "execute_result"
    }
   ],
   "source": [
    "dicerolls(1000)"
   ]
  },
  {
   "cell_type": "code",
   "execution_count": null,
   "metadata": {},
   "outputs": [],
   "source": []
  }
 ],
 "metadata": {
  "kernelspec": {
   "display_name": "Python 3",
   "language": "python",
   "name": "python3"
  },
  "language_info": {
   "codemirror_mode": {
    "name": "ipython",
    "version": 3
   },
   "file_extension": ".py",
   "mimetype": "text/x-python",
   "name": "python",
   "nbconvert_exporter": "python",
   "pygments_lexer": "ipython3",
   "version": "3.7.4"
  }
 },
 "nbformat": 4,
 "nbformat_minor": 2
}
