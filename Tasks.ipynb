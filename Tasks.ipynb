{
 "cells": [
  {
   "cell_type": "markdown",
   "metadata": {},
   "source": [
    "# Tasks 2020 \n",
    "### [ Fundamentals of Data Analysis Module GMIT 2020 ]\n",
    "\n",
    "<img align=\"left\" width=\"300\" height=\"300\" src=\"https://www.wardyit.com/wp-content/uploads/data-analysis-fundamentals-using-excel.png\">"
   ]
  },
  {
   "cell_type": "markdown",
   "metadata": {},
   "source": [
    "Below are my solutions to the Task assessment.\n",
    "\n",
    "Completed by: *Olga Rozhdestvina (G00387844@gmit.ie)*\n",
    "___"
   ]
  },
  {
   "cell_type": "markdown",
   "metadata": {},
   "source": [
    "## Table of Contents\n",
    "* [Task 1](#task1)\n",
    "    * [Test of the function](#Test_of_the_function1)\n",
    "* [Task 2](#task2)\n",
    "    * [Test of the function](#Test_of_the_function2)\n",
    "* [Task 3](#task3)\n",
    "    * [Test of the function](#Test_of_the_function3)\n",
    "* [Task 4](#task4)\n",
    "    * [Test of the function](#Test_of_the_function4)\n",
    "___"
   ]
  },
  {
   "cell_type": "markdown",
   "metadata": {},
   "source": [
    "### __TASK 1__: *Dictionary of unique items with the number of appearance from a list.*  <a name=\"task1\"></a>\n",
    "\n",
    "For completion of this task I will iterate over the list checking on unique items as keys and then count and store the corresponding number of times each item appears as values in the dictionary. [1]\n",
    "\n",
    "> 1. https://www.geeksforgeeks.org/counting-the-frequencies-in-a-list-using-dictionary-in-python/"
   ]
  },
  {
   "cell_type": "code",
   "execution_count": 1,
   "metadata": {},
   "outputs": [],
   "source": [
    "def counts(l):\n",
    "    \"\"\"\n",
    "    Function that takes a list as an input and returns a dictionary of unique items with the number of appearance\n",
    "    \"\"\"\n",
    "    # Creating an empty dictionary\n",
    "    dic = {}\n",
    "    # Loop through items in the list\n",
    "    for i in l:\n",
    "        # Checking if items are in the dictionary\n",
    "        if i in dic:\n",
    "            # Count the number of times each item appears\n",
    "            dic[i] += 1\n",
    "        else:\n",
    "            dic[i] = 1\n",
    "    # Output the dictionary\n",
    "    return dic"
   ]
  },
  {
   "cell_type": "markdown",
   "metadata": {},
   "source": [
    "<br>\n",
    "\n",
    "##### Test of the function <a name=\"Test_of_the_function1\"></a>\n",
    "Here is a test of the above function with the proposed in the task list ['A', 'A', 'B', 'C', 'A']"
   ]
  },
  {
   "cell_type": "code",
   "execution_count": 2,
   "metadata": {},
   "outputs": [
    {
     "data": {
      "text/plain": [
       "{'A': 3, 'B': 1, 'C': 1}"
      ]
     },
     "execution_count": 2,
     "metadata": {},
     "output_type": "execute_result"
    }
   ],
   "source": [
    "counts(['A', 'A', 'B', 'C', 'A'])"
   ]
  },
  {
   "cell_type": "markdown",
   "metadata": {},
   "source": [
    "<br>\n",
    "\n",
    "***\n",
    "### __TASK 2__: *Dice roll simulation*  <a name=\"task2\"></a>\n",
    "\n",
    "<img align=\"left\" width=\"230\" height=\"90\" src=\"https://i.pinimg.com/originals/cd/18/f1/cd18f1c40c148545b66e9f6a851c98d2.jpg\">"
   ]
  },
  {
   "cell_type": "markdown",
   "metadata": {},
   "source": [
    "In order to simulate a randomly rolling $k$ dice $n$ number of times I will be using a function from $python.random$ called $randint$ that returns a random integer within a given range (in this cases dice sides) [1]. Alongside with randint I will be using the $sum$ function within the range of given parameter $k$. [2]\n",
    "\n",
    "To keep track of each total face value I will incorporate a function $counts$ from Task 1.\n",
    "\n",
    "> 1. [Python: random.randint](https://docs.python.org/3/library/random.html)\n",
    "2. [Stackoverflow: How to sum up values of a for range function in python](https://stackoverflow.com/questions/43528962/how-to-sum-up-values-of-a-for-range-function-in-python)"
   ]
  },
  {
   "cell_type": "markdown",
   "metadata": {},
   "source": [
    "#### General setup"
   ]
  },
  {
   "cell_type": "code",
   "execution_count": 3,
   "metadata": {},
   "outputs": [],
   "source": [
    "# For generating random numbers\n",
    "import random \n",
    "# Package for plotting.\n",
    "import matplotlib.pyplot as plt\n",
    "# Another package for plotting.\n",
    "import seaborn as sns"
   ]
  },
  {
   "cell_type": "code",
   "execution_count": 4,
   "metadata": {},
   "outputs": [],
   "source": [
    "# Colour scheme and styles for plots.\n",
    "sns.set_theme(palette=\"Paired\", context=\"paper\", font_scale=1.5)\n",
    "\n",
    "# Better sized plots.\n",
    "plt.rcParams['figure.figsize'] = (13, 9)"
   ]
  },
  {
   "cell_type": "markdown",
   "metadata": {},
   "source": [
    "<br>\n",
    "\n",
    "#### Dice simulation function "
   ]
  },
  {
   "cell_type": "code",
   "execution_count": 5,
   "metadata": {},
   "outputs": [],
   "source": [
    "def dicerolls(k, n):\n",
    "    \"\"\"\n",
    "    Function that simulates randomly rolling k dice n times\n",
    "    and keeps track of each total face value\n",
    "    \"\"\"\n",
    "    # Initialize the list of rolls\n",
    "    rolls = []\n",
    "    # Loop through the number of times the dice is rolled\n",
    "    for i in range(n):\n",
    "        # Choose randomly a number between 1 and 6, inclusively, within k range:\n",
    "        dice = sum(random.randint(1, 6) for j in range(k))\n",
    "        # Add to list of rolls\n",
    "        rolls.append(dice)\n",
    "    # Sort the list in ascending order. \n",
    "    rolls = sorted(rolls)\n",
    "    # Call a function counts from task 1\n",
    "    output = counts(rolls)\n",
    "    return output"
   ]
  },
  {
   "cell_type": "markdown",
   "metadata": {},
   "source": [
    "<br>\n",
    "\n",
    "#### Test of the function <a name=\"Test_of_the_function2\"></a>\n",
    "Here is a test of the above function where k number of dices is rolled n number of times"
   ]
  },
  {
   "cell_type": "code",
   "execution_count": 6,
   "metadata": {},
   "outputs": [
    {
     "data": {
      "text/plain": [
       "{2: 38,\n",
       " 3: 63,\n",
       " 4: 74,\n",
       " 5: 108,\n",
       " 6: 152,\n",
       " 7: 156,\n",
       " 8: 130,\n",
       " 9: 119,\n",
       " 10: 75,\n",
       " 11: 53,\n",
       " 12: 32}"
      ]
     },
     "execution_count": 6,
     "metadata": {},
     "output_type": "execute_result"
    }
   ],
   "source": [
    "dicerolls(2,1000)"
   ]
  },
  {
   "cell_type": "markdown",
   "metadata": {},
   "source": [
    "<br>\n",
    "\n",
    "#### Plot the output by rolling a diffent number of dice. "
   ]
  },
  {
   "cell_type": "code",
   "execution_count": 7,
   "metadata": {},
   "outputs": [
    {
     "data": {
      "image/png": "[encoded data removed]",
      "text/plain": [
       "<Figure size 936x648 with 4 Axes>"
      ]
     },
     "metadata": {},
     "output_type": "display_data"
    }
   ],
   "source": [
    "# Build 2x2 plots.\n",
    "fig, [[ax1, ax2],[ax3, ax4]] = plt.subplots(2,2, sharey=False)\n",
    "\n",
    "# Roll 1 Dice.\n",
    "k1 = 1\n",
    "n1 = 1000\n",
    "d = dicerolls(k1, n1)\n",
    "\n",
    "# Build a plot (by separating keys and values)\n",
    "ax1.bar(d.keys(), d.values())\n",
    "ax1.set_title(f\"{k1} dice rolled {n1} times\")\n",
    "\n",
    "#  2 Dice.\n",
    "k2 = 2\n",
    "n2 = 1000\n",
    "d = dicerolls(k2, n2)\n",
    "# Build a plot.\n",
    "ax2.bar(d.keys(), d.values())\n",
    "ax2.set_title(f\"{k2} dice rolled {n2} times\")\n",
    "\n",
    "# 5 Dice.\n",
    "k3 = 5\n",
    "n3 = 1000\n",
    "d = dicerolls(k3, n3)\n",
    "# Build a plot.\n",
    "ax3.bar(d.keys(), d.values())\n",
    "ax3.set_title(f\"{k3} dice rolled {n3} times\")\n",
    "\n",
    "# 10 Dice.\n",
    "k4 = 10\n",
    "n4 = 1000\n",
    "d = dicerolls(k4, n4)\n",
    "# Build a plot.\n",
    "ax4.bar(d.keys(), d.values())\n",
    "ax4.set_title(f\"{k4} dice rolled {n4} times\")\n",
    "\n",
    "# Clean up whitespace padding.\n",
    "fig.tight_layout()\n",
    "\n",
    "# Display plot.\n",
    "plt.show()"
   ]
  },
  {
   "cell_type": "markdown",
   "metadata": {},
   "source": [
    "***\n",
    "#### Conclusion on the above plots\n",
    "\n",
    "It can be seen that the graphs approach a normal distribution as the number of dice rolled is increased."
   ]
  }
 ],
 "metadata": {
  "kernelspec": {
   "display_name": "Python 3",
   "language": "python",
   "name": "python3"
  },
  "language_info": {
   "codemirror_mode": {
    "name": "ipython",
    "version": 3
   },
   "file_extension": ".py",
   "mimetype": "text/x-python",
   "name": "python",
   "nbconvert_exporter": "python",
   "pygments_lexer": "ipython3",
   "version": "3.7.4"
  }
 },
 "nbformat": 4,
 "nbformat_minor": 2
}
