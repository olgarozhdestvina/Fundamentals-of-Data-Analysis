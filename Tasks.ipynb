{
 "cells": [
  {
   "cell_type": "markdown",
   "metadata": {},
   "source": [
    "# Tasks 2020 \n",
    "### [ Fundamentals of Data Analysis Module GMIT 2020 ]\n",
    "___\n",
    "These are my solutions to the Task assessment.\n",
    "\n",
    "Completed by: *Olga Rozhdestvina (G00387844@gmit.ie)*\n",
    "___\n",
    "- __TASK 1__: *Dictionary of unique items with the number of appearance from a list.* \n",
    "\n",
    "To complete this task we would need to iterate over the list checking on unique items as keys and then count and store the corresponding number of times each item appears as values in the dictionary. [1]\n",
    "\n",
    "1. https://www.geeksforgeeks.org/counting-the-frequencies-in-a-list-using-dictionary-in-python/"
   ]
  },
  {
   "cell_type": "code",
   "execution_count": 1,
   "metadata": {},
   "outputs": [],
   "source": [
    "def counts(l):\n",
    "    \"\"\"\n",
    "    Function that takes a list as an input and returns a dictionary of unique items with the number of appearance\n",
    "    \"\"\"\n",
    "    # Creating an empty dictionary\n",
    "    dic = {}\n",
    "    # Loop through items in the list\n",
    "    for i in l:\n",
    "        # Checking if items are in the dictionary\n",
    "        if i in dic:\n",
    "            # Count the number of times each item appears\n",
    "            dic[i] += 1\n",
    "        else:\n",
    "            dic[i] = 1\n",
    "    # Output the dictionary\n",
    "    return dic"
   ]
  },
  {
   "cell_type": "markdown",
   "metadata": {},
   "source": [
    "##### Test of the function\n",
    "Here is a test of the above function with the proposed in the task list ['A', 'A', 'B', 'C', 'A']"
   ]
  },
  {
   "cell_type": "code",
   "execution_count": 2,
   "metadata": {},
   "outputs": [
    {
     "data": {
      "text/plain": [
       "{'A': 3, 'B': 1, 'C': 1}"
      ]
     },
     "execution_count": 2,
     "metadata": {},
     "output_type": "execute_result"
    }
   ],
   "source": [
    "counts(['A', 'A', 'B', 'C', 'A'])"
   ]
  }
 ],
 "metadata": {
  "kernelspec": {
   "display_name": "Python 3",
   "language": "python",
   "name": "python3"
  },
  "language_info": {
   "codemirror_mode": {
    "name": "ipython",
    "version": 3
   },
   "file_extension": ".py",
   "mimetype": "text/x-python",
   "name": "python",
   "nbconvert_exporter": "python",
   "pygments_lexer": "ipython3",
   "version": "3.7.4"
  }
 },
 "nbformat": 4,
 "nbformat_minor": 2
}
