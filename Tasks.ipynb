{
 "cells": [
  {
   "cell_type": "markdown",
   "metadata": {},
   "source": [
    "# Tasks 2020 \n",
    "### [ Fundamentals of Data Analysis Module GMIT 2020 ]\n",
    "\n",
    "<img align=\"left\" width=\"300\" src=\"https://www.wardyit.com/wp-content/uploads/data-analysis-fundamentals-using-excel.png\">"
   ]
  },
  {
   "cell_type": "markdown",
   "metadata": {},
   "source": [
    "Below are my solutions to the Task assessment.\n",
    "\n",
    "Completed by: *Olga Rozhdestvina (G00387844@gmit.ie)*\n",
    "___"
   ]
  },
  {
   "cell_type": "markdown",
   "metadata": {},
   "source": [
    "## Table of Contents\n",
    "* [Task 1: Dictionary of unique items with the number of appearance from a list.](#task1)\n",
    "* [Task 2: Dice roll simulation](#task2)\n",
    "* [Task 3: Flip a coin simulation ](#task3)\n",
    "* [Task 4: Simpson’s paradox](#task4)\n",
    "___"
   ]
  },
  {
   "cell_type": "markdown",
   "metadata": {},
   "source": [
    "### __TASK 1__: *Dictionary of unique items with the number of appearance from a list.*  <a name=\"task1\"></a>\n",
    "\n",
    "For completion of this task I will iterate over the list checking on unique items as keys and then count and store the corresponding number of times each item appears as values in the dictionary. [1]\n",
    "\n",
    "> 1. https://www.geeksforgeeks.org/counting-the-frequencies-in-a-list-using-dictionary-in-python/"
   ]
  },
  {
   "cell_type": "code",
   "execution_count": 1,
   "metadata": {},
   "outputs": [],
   "source": [
    "def counts(l):\n",
    "    \"\"\"\n",
    "    Function that takes a list as an input and returns a dictionary of unique items with the number of appearance\n",
    "    \"\"\"\n",
    "    # Creating an empty dictionary\n",
    "    dic = {}\n",
    "    # Loop through items in the list\n",
    "    for i in l:\n",
    "        # Checking if items are in the dictionary\n",
    "        if i in dic:\n",
    "            # Count the number of times each item appears\n",
    "            dic[i] += 1\n",
    "        else:\n",
    "            dic[i] = 1\n",
    "    # Output the dictionary\n",
    "    return dic"
   ]
  },
  {
   "cell_type": "markdown",
   "metadata": {},
   "source": [
    "<br>\n",
    "\n",
    "##### Test of the function <a name=\"Test_of_the_function1\"></a>\n",
    "Here is a test of the above function with the proposed in the task list ['A', 'A', 'B', 'C', 'A']"
   ]
  },
  {
   "cell_type": "code",
   "execution_count": 2,
   "metadata": {},
   "outputs": [
    {
     "data": {
      "text/plain": [
       "{'A': 3, 'B': 1, 'C': 1}"
      ]
     },
     "execution_count": 2,
     "metadata": {},
     "output_type": "execute_result"
    }
   ],
   "source": [
    "counts(['A', 'A', 'B', 'C', 'A'])"
   ]
  },
  {
   "cell_type": "markdown",
   "metadata": {},
   "source": [
    "<br>\n",
    "\n",
    "***\n",
    "### __TASK 2__: *Dice roll simulation*  <a name=\"task2\"></a>\n",
    "\n",
    "<img align=\"left\" width=\"230\" src=\"https://i.pinimg.com/originals/cd/18/f1/cd18f1c40c148545b66e9f6a851c98d2.jpg\">"
   ]
  },
  {
   "cell_type": "markdown",
   "metadata": {},
   "source": [
    "In order to simulate a randomly rolling $k$ dice $n$ number of times I will be using a function from $python.random$ called $randint$ that returns a random integer within a given range (in this cases dice sides) [1]. Alongside with randint I will be using the $sum$ function within the range of given parameter $k$. [2]\n",
    "\n",
    "To keep track of each total face value I will incorporate a function $counts$ from Task 1.\n",
    "\n",
    "> 1. [Python: random.randint](https://docs.python.org/3/library/random.html)\n",
    "2. [Stackoverflow: How to sum up values of a for range function in python](https://stackoverflow.com/questions/43528962/how-to-sum-up-values-of-a-for-range-function-in-python)"
   ]
  },
  {
   "cell_type": "markdown",
   "metadata": {},
   "source": [
    "#### General setup"
   ]
  },
  {
   "cell_type": "code",
   "execution_count": 3,
   "metadata": {},
   "outputs": [],
   "source": [
    "# For generating random numbers\n",
    "import random \n",
    "# Package for plotting.\n",
    "import matplotlib.pyplot as plt\n",
    "# Another package for plotting.\n",
    "import seaborn as sns"
   ]
  },
  {
   "cell_type": "code",
   "execution_count": 4,
   "metadata": {},
   "outputs": [],
   "source": [
    "# Colour scheme and styles for plots.\n",
    "sns.set_theme(palette=\"Paired\", context=\"paper\", font_scale=1.5)\n",
    "\n",
    "# Better sized plots.\n",
    "plt.rcParams['figure.figsize'] = (13, 9)"
   ]
  },
  {
   "cell_type": "markdown",
   "metadata": {},
   "source": [
    "<br>\n",
    "\n",
    "#### Dice simulation function "
   ]
  },
  {
   "cell_type": "code",
   "execution_count": 5,
   "metadata": {},
   "outputs": [],
   "source": [
    "def dicerolls(k, n):\n",
    "    \"\"\"\n",
    "    Function that simulates randomly rolling k dice n times\n",
    "    and keeps track of each total face value\n",
    "    \"\"\"\n",
    "    # Initialize the list of rolls\n",
    "    rolls = []\n",
    "    # Loop through the number of times the dice is rolled\n",
    "    for i in range(n):\n",
    "        # Choose randomly a number between 1 and 6, inclusively, within k range:\n",
    "        dice = sum(random.randint(1, 6) for j in range(k))\n",
    "        # Add to list of rolls\n",
    "        rolls.append(dice)\n",
    "    # Sort the list in ascending order. \n",
    "    rolls = sorted(rolls)\n",
    "    # Call a function counts from task 1\n",
    "    output = counts(rolls)\n",
    "    return output"
   ]
  },
  {
   "cell_type": "markdown",
   "metadata": {},
   "source": [
    "<br>\n",
    "\n",
    "#### Test of the function <a name=\"Test_of_the_function2\"></a>\n",
    "Here is a test of the above function where k number of dices is rolled n number of times"
   ]
  },
  {
   "cell_type": "code",
   "execution_count": 6,
   "metadata": {},
   "outputs": [
    {
     "data": {
      "text/plain": [
       "{2: 36,\n",
       " 3: 58,\n",
       " 4: 94,\n",
       " 5: 92,\n",
       " 6: 132,\n",
       " 7: 147,\n",
       " 8: 152,\n",
       " 9: 109,\n",
       " 10: 96,\n",
       " 11: 55,\n",
       " 12: 29}"
      ]
     },
     "execution_count": 6,
     "metadata": {},
     "output_type": "execute_result"
    }
   ],
   "source": [
    "dicerolls(2,1000)"
   ]
  },
  {
   "cell_type": "markdown",
   "metadata": {},
   "source": [
    "<br>\n",
    "\n",
    "#### Plot the output by rolling a diffent number of dice. "
   ]
  },
  {
   "cell_type": "code",
   "execution_count": 7,
   "metadata": {},
   "outputs": [
    {
     "data": {
      "image/png": "[encoded data removed]",
      "text/plain": [
       "<Figure size 936x648 with 4 Axes>"
      ]
     },
     "metadata": {},
     "output_type": "display_data"
    }
   ],
   "source": [
    "# Build 2x2 plots.\n",
    "fig, [[ax1, ax2],[ax3, ax4]] = plt.subplots(2,2, sharey=False)\n",
    "fig.suptitle(\"Dice roll simulation \", y=1.05)\n",
    "\n",
    "# Roll 1 Dice.\n",
    "k1 = 1\n",
    "n1 = 1000\n",
    "d = dicerolls(k1, n1)\n",
    "\n",
    "# Build a plot (by separating keys and values)\n",
    "ax1.bar(d.keys(), d.values())\n",
    "ax1.set_title(f\"{k1} dice rolled {n1} times\")\n",
    "\n",
    "#  2 Dice.\n",
    "k2 = 2\n",
    "n2 = 1000\n",
    "d = dicerolls(k2, n2)\n",
    "# Build a plot.\n",
    "ax2.bar(d.keys(), d.values())\n",
    "ax2.set_title(f\"{k2} dice rolled {n2} times\")\n",
    "\n",
    "# 5 Dice.\n",
    "k3 = 5\n",
    "n3 = 1000\n",
    "d = dicerolls(k3, n3)\n",
    "# Build a plot.\n",
    "ax3.bar(d.keys(), d.values())\n",
    "ax3.set_title(f\"{k3} dice rolled {n3} times\")\n",
    "\n",
    "# 10 Dice.\n",
    "k4 = 10\n",
    "n4 = 1000\n",
    "d = dicerolls(k4, n4)\n",
    "# Build a plot.\n",
    "ax4.bar(d.keys(), d.values())\n",
    "ax4.set_title(f\"{k4} dice rolled {n4} times\")\n",
    "\n",
    "# Clean up whitespace padding.\n",
    "fig.tight_layout()\n",
    "\n",
    "# Display plot.\n",
    "plt.show()"
   ]
  },
  {
   "cell_type": "markdown",
   "metadata": {},
   "source": [
    "***\n",
    "#### Conclusion on the above plots\n",
    "\n",
    "It can be seen that the graphs approach a normal distribution as the number of dice rolled is increased."
   ]
  },
  {
   "cell_type": "markdown",
   "metadata": {},
   "source": [
    "<br>\n",
    "\n",
    "***\n",
    "### __TASK 3__: *Flip a coin simulation*  <a name=\"task3\"></a>\n",
    "\n",
    "<br>\n",
    "\n",
    "<img align=\"left\" width=\"200\" src=\"https://www.flaticon.com/svg/static/icons/svg/1715/1715539.svg\">"
   ]
  },
  {
   "cell_type": "markdown",
   "metadata": {},
   "source": [
    "<br>\n",
    "\n",
    "For simulation of a flipping a coin 100 times with a 50/50 chance of heads or tails I will be using a function [numpy.random.binomial](https://numpy.org/doc/stable/reference/random/generated/numpy.random.binomial.html) from [NumPy](https://numpy.org/) library. This function draws samples from a binomial distribution that has two possible outcomes: \"success\" or \"failure\", or in this case \"heads\" or \"tails\". [1]\n",
    "\n",
    "The function takes three parameters:\n",
    "* _n_ - a number of times coin is flipped,\n",
    "* _p_ - probability of getting heads or tails,\n",
    "* _size_ - a number of times we run the test. \n",
    "\n",
    "> 1. [Statistics How To: Binomial Distribution](https://www.statisticshowto.com/probability-and-statistics/binomial-theorem/binomial-distribution-formula/)"
   ]
  },
  {
   "cell_type": "markdown",
   "metadata": {},
   "source": [
    "#### General setup"
   ]
  },
  {
   "cell_type": "code",
   "execution_count": 8,
   "metadata": {},
   "outputs": [],
   "source": [
    "# Numpy to use numpy.random.binomial function\n",
    "import numpy as np"
   ]
  },
  {
   "cell_type": "markdown",
   "metadata": {},
   "source": [
    "<br>\n",
    "\n",
    "#### Flipping a coin simulation. "
   ]
  },
  {
   "cell_type": "code",
   "execution_count": 9,
   "metadata": {
    "scrolled": true
   },
   "outputs": [
    {
     "data": {
      "text/plain": [
       "array([45, 60, 45, 51, 58, 56, 54, 42, 47, 50, 43, 61, 53, 58, 47, 50, 50,\n",
       "       42, 53, 48, 59, 50, 48, 49, 51, 52, 49, 50, 51, 50, 33, 48, 49, 53,\n",
       "       44, 48, 53, 50, 50, 44, 59, 36, 56, 53, 48, 44, 53, 54, 49, 49, 58,\n",
       "       44, 59, 46, 43, 46, 60, 53, 50, 46, 47, 46, 58, 59, 56, 48, 53, 51,\n",
       "       54, 52, 56, 57, 55, 60, 53, 50, 48, 52, 47, 47, 65, 39, 50, 48, 52,\n",
       "       56, 57, 51, 52, 49, 40, 57, 51, 49, 49, 45, 50, 49, 48, 48, 53, 67,\n",
       "       52, 55, 44, 49, 60, 58, 49, 50, 37, 52, 53, 47, 52, 54, 50, 45, 48,\n",
       "       49, 51, 56, 47, 57, 46, 49, 63, 53, 50, 48, 48, 43, 57, 47, 62, 57,\n",
       "       42, 53, 48, 54, 44, 55, 45, 54, 52, 55, 50, 62, 49, 52, 51, 56, 47,\n",
       "       60, 43, 56, 52, 47, 42, 65, 57, 48, 53, 56, 46, 51, 50, 49, 47, 53,\n",
       "       56, 55, 44, 48, 48, 49, 48, 51, 47, 45, 56, 54, 52, 48, 43, 47, 49,\n",
       "       61, 49, 43, 45, 46, 42, 45, 53, 53, 51, 54, 61, 51, 42, 54, 50, 52,\n",
       "       51, 46, 48, 51, 49, 45, 53, 46, 47, 52, 54, 46, 43, 56, 54, 46, 56,\n",
       "       53, 48, 43, 58, 48, 51, 34, 61, 55, 44, 52, 39, 51, 53, 43, 46, 55,\n",
       "       48, 57, 42, 42, 51, 51, 49, 55, 53, 47, 49, 46, 48, 44, 56, 54, 47,\n",
       "       60, 56, 46, 45, 52, 54, 49, 50, 48, 40, 53, 56, 59, 56, 48, 43, 52,\n",
       "       49, 50, 49, 52, 45, 51, 55, 44, 42, 49, 55, 43, 49, 49, 44, 55, 50,\n",
       "       56, 46, 47, 56, 51, 51, 52, 60, 46, 52, 38, 55, 47, 56, 44, 49, 62,\n",
       "       53, 48, 47, 43, 48, 49, 49, 63, 45, 55, 58, 48, 49, 46, 63, 42, 50,\n",
       "       46, 49, 53, 51, 48, 46, 44, 54, 54, 44, 62, 53, 56, 45, 63, 52, 54,\n",
       "       43, 53, 46, 49, 47, 50, 51, 51, 54, 41, 57, 41, 55, 52, 58, 50, 46,\n",
       "       49, 56, 43, 44, 59, 56, 52, 52, 52, 51, 54, 53, 46, 59, 49, 56, 52,\n",
       "       60, 45, 48, 55, 60, 48, 46, 54, 47, 54, 47, 53, 45, 50, 43, 57, 55,\n",
       "       43, 51, 50, 49, 50, 46, 53, 54, 43, 48, 49, 39, 46, 52, 52, 50, 43,\n",
       "       43, 49, 55, 52, 40, 50, 49, 45, 51, 56, 47, 49, 47, 45, 47, 46, 48,\n",
       "       38, 49, 49, 53, 51, 49, 51, 47, 46, 46, 50, 54, 52, 52, 55, 56, 48,\n",
       "       51, 59, 53, 54, 58, 45, 47, 56, 48, 40, 55, 48, 47, 45, 54, 48, 51,\n",
       "       48, 54, 54, 57, 54, 49, 55, 57, 45, 52, 49, 51, 55, 47, 53, 58, 51,\n",
       "       50, 53, 38, 50, 48, 50, 48, 54, 47, 52, 46, 53, 55, 59, 48, 46, 46,\n",
       "       47, 45, 53, 53, 49, 48, 46, 50, 51, 58, 56, 53, 46, 45, 48, 46, 57,\n",
       "       51, 46, 47, 47, 51, 44, 52, 52, 43, 48, 50, 63, 43, 53, 51, 55, 61,\n",
       "       55, 49, 49, 44, 54, 52, 54, 53, 56, 46, 52, 41, 52, 47, 49, 48, 55,\n",
       "       50, 55, 57, 55, 46, 56, 50, 46, 52, 41, 54, 55, 50, 39, 49, 55, 53,\n",
       "       43, 58, 45, 57, 54, 37, 54, 61, 52, 56, 51, 48, 48, 45, 51, 41, 48,\n",
       "       45, 55, 58, 49, 46, 51, 48, 48, 50, 57, 57, 48, 41, 44, 57, 57, 52,\n",
       "       54, 47, 50, 54, 50, 46, 47, 45, 50, 63, 49, 53, 46, 44, 46, 44, 42,\n",
       "       53, 48, 52, 42, 55, 54, 37, 56, 45, 46, 55, 53, 47, 52, 61, 52, 49,\n",
       "       53, 56, 55, 56, 56, 46, 54, 57, 57, 49, 55, 49, 55, 56, 55, 57, 55,\n",
       "       51, 49, 64, 56, 51, 53, 54, 64, 47, 44, 50, 51, 50, 43, 50, 44, 49,\n",
       "       55, 50, 48, 43, 51, 55, 56, 47, 56, 57, 50, 54, 51, 46, 52, 51, 44,\n",
       "       49, 46, 53, 51, 52, 43, 53, 53, 51, 52, 56, 45, 55, 45, 46, 52, 50,\n",
       "       56, 57, 46, 55, 41, 47, 46, 51, 41, 51, 53, 48, 51, 54, 44, 53, 46,\n",
       "       46, 50, 50, 46, 46, 48, 46, 53, 49, 48, 53, 40, 43, 40, 45, 50, 45,\n",
       "       54, 56, 54, 48, 58, 41, 46, 49, 52, 47, 47, 46, 52, 55, 56, 51, 47,\n",
       "       49, 51, 37, 49, 52, 48, 51, 47, 48, 49, 49, 62, 54, 54, 44, 52, 50,\n",
       "       43, 48, 50, 47, 59, 47, 50, 58, 47, 57, 47, 57, 50, 57, 55, 54, 41,\n",
       "       56, 49, 52, 46, 46, 57, 46, 46, 56, 42, 52, 46, 50, 54, 48, 56, 53,\n",
       "       40, 47, 49, 53, 40, 38, 54, 47, 48, 48, 57, 37, 52, 55, 52, 47, 56,\n",
       "       53, 45, 34, 50, 44, 47, 49, 56, 44, 49, 54, 42, 57, 50, 53, 57, 49,\n",
       "       57, 65, 45, 59, 54, 50, 44, 54, 41, 50, 58, 53, 46, 49, 51, 54, 53,\n",
       "       50, 52, 49, 45, 43, 46, 45, 51, 44, 62, 59, 37, 55, 51, 45, 49, 49,\n",
       "       45, 52, 50, 55, 48, 52, 46, 49, 54, 53, 53, 49, 52, 51, 47, 43, 49,\n",
       "       51, 41, 51, 48, 46, 44, 54, 52, 44, 43, 50, 48, 37, 60, 47, 60, 53,\n",
       "       50, 57, 56, 46, 56, 55, 53, 44, 54, 51, 54, 45, 43, 61, 57, 54, 47,\n",
       "       53, 47, 53, 42, 46, 51, 49, 52, 56, 47, 48, 53, 50, 41, 53, 46, 46,\n",
       "       56, 52, 43, 51, 51, 51, 44, 51, 43, 55, 62, 52, 42, 57, 36, 50, 47,\n",
       "       52, 56, 55, 49, 51, 58, 54, 50, 54, 50, 48, 51, 43, 53, 57, 53, 51,\n",
       "       46, 52, 49, 50, 45, 47, 47, 64, 50, 53, 50, 46, 53, 50, 43, 49, 50,\n",
       "       53, 50, 51, 46, 45, 53, 54, 47, 50, 47, 58, 61, 49, 47])"
      ]
     },
     "execution_count": 9,
     "metadata": {},
     "output_type": "execute_result"
    }
   ],
   "source": [
    "# Flip a coin 100 times with a probability 0.5 of each trial tested 1000 times. \n",
    "n, p, size = 100, 0.5, 1000\n",
    "\n",
    "# Draw the samples.\n",
    "x = np.random.binomial(n, p, size)\n",
    "\n",
    "# Display the number of heads.\n",
    "x"
   ]
  },
  {
   "cell_type": "markdown",
   "metadata": {},
   "source": [
    "<br>\n",
    "\n",
    "#### Plot the output of flipping a coin 100 times."
   ]
  },
  {
   "cell_type": "code",
   "execution_count": 10,
   "metadata": {},
   "outputs": [
    {
     "data": {
      "image/png": "[encoded data removed]",
      "text/plain": [
       "<Figure size 936x648 with 1 Axes>"
      ]
     },
     "metadata": {},
     "output_type": "display_data"
    }
   ],
   "source": [
    "# Colour scheme for the plot.\n",
    "sns.set_theme(palette=\"autumn\")\n",
    "\n",
    "# Plot the array.\n",
    "fig, ax = plt.subplots()\n",
    "fig.suptitle(\"Flip a coin simulation 100 times\")\n",
    "\n",
    "sns.histplot(x, stat=\"probability\", kde=True, ax=ax).set_title(\"Test performed 1000 times\")\n",
    "ax.set_xlabel(\"Number of Heads\")\n",
    "\n",
    "# Show the plot.\n",
    "plt.show()"
   ]
  },
  {
   "cell_type": "markdown",
   "metadata": {},
   "source": [
    "***\n",
    "#### Conclusion on the above plot\n",
    "\n",
    "The plot of flip a coin simulator roughly follows a bell-shaped curve."
   ]
  },
  {
   "cell_type": "markdown",
   "metadata": {},
   "source": [
    "<br>\n",
    "\n",
    "***\n",
    "### __TASK 4__: *Simpson’s paradox*  <a name=\"task4\"></a>\n",
    "\n",
    "<br>\n",
    "\n",
    "<img align=\"left\" width=\"300\" src=\"https://encrypted-tbn0.gstatic.com/images?q=tbn:ANd9GcT_UqgTLM_0HWkxxSuAAGnlwkGLV_jth9I6Mg&usqp=CAU\">\n",
    "\n",
    "<br>"
   ]
  },
  {
   "cell_type": "markdown",
   "metadata": {},
   "source": [
    "__Simpson's paradox__ (or _Yule-Simpson effect_ ), in statistics, is a phenomenon where one particular trend shown in groups of data is reversed when the groups are combined together. In order to interpret data correctly understanding and identifying this paradox is of critical importance.\n",
    "\n",
    "To demostrate the work of Simpson's paradox I will be using [NumPy](https://numpy.org/) library to create four data sets, each with an __x__ array and a corresponding __y__ array using notation __y = a * x + b__ (which expresses a slraight line)\n",
    "\n",
    "However, there are other ways we can find Simpson’s Pairs using models, e.g.:\n",
    "\n",
    "By building decision trees and comparing the distributions, or\n",
    "By building regression models and comparing the signs of the coefficients\n",
    "\n",
    "\n",
    "> 1. [BRILLIANT: Simpson's Paradox](https://brilliant.org/wiki/simpsons-paradox/)"
   ]
  },
  {
   "cell_type": "code",
   "execution_count": 11,
   "metadata": {},
   "outputs": [],
   "source": [
    "import pandas as pd"
   ]
  },
  {
   "cell_type": "code",
   "execution_count": 12,
   "metadata": {
    "scrolled": true
   },
   "outputs": [
    {
     "data": {
      "text/html": [
       "<div>\n",
       "<style scoped>\n",
       "    .dataframe tbody tr th:only-of-type {\n",
       "        vertical-align: middle;\n",
       "    }\n",
       "\n",
       "    .dataframe tbody tr th {\n",
       "        vertical-align: top;\n",
       "    }\n",
       "\n",
       "    .dataframe thead th {\n",
       "        text-align: right;\n",
       "    }\n",
       "</style>\n",
       "<table border=\"1\" class=\"dataframe\">\n",
       "  <thead>\n",
       "    <tr style=\"text-align: right;\">\n",
       "      <th></th>\n",
       "      <th>x</th>\n",
       "      <th>y</th>\n",
       "    </tr>\n",
       "  </thead>\n",
       "  <tbody>\n",
       "    <tr>\n",
       "      <td>0</td>\n",
       "      <td>0.000000</td>\n",
       "      <td>1.000000</td>\n",
       "    </tr>\n",
       "    <tr>\n",
       "      <td>1</td>\n",
       "      <td>0.102041</td>\n",
       "      <td>1.306122</td>\n",
       "    </tr>\n",
       "    <tr>\n",
       "      <td>2</td>\n",
       "      <td>0.204082</td>\n",
       "      <td>1.612245</td>\n",
       "    </tr>\n",
       "    <tr>\n",
       "      <td>3</td>\n",
       "      <td>0.306122</td>\n",
       "      <td>1.918367</td>\n",
       "    </tr>\n",
       "    <tr>\n",
       "      <td>4</td>\n",
       "      <td>0.408163</td>\n",
       "      <td>2.224490</td>\n",
       "    </tr>\n",
       "    <tr>\n",
       "      <td>5</td>\n",
       "      <td>0.510204</td>\n",
       "      <td>2.530612</td>\n",
       "    </tr>\n",
       "    <tr>\n",
       "      <td>6</td>\n",
       "      <td>0.612245</td>\n",
       "      <td>2.836735</td>\n",
       "    </tr>\n",
       "    <tr>\n",
       "      <td>7</td>\n",
       "      <td>0.714286</td>\n",
       "      <td>3.142857</td>\n",
       "    </tr>\n",
       "    <tr>\n",
       "      <td>8</td>\n",
       "      <td>0.816327</td>\n",
       "      <td>3.448980</td>\n",
       "    </tr>\n",
       "    <tr>\n",
       "      <td>9</td>\n",
       "      <td>0.918367</td>\n",
       "      <td>3.755102</td>\n",
       "    </tr>\n",
       "    <tr>\n",
       "      <td>10</td>\n",
       "      <td>1.020408</td>\n",
       "      <td>4.061224</td>\n",
       "    </tr>\n",
       "    <tr>\n",
       "      <td>11</td>\n",
       "      <td>1.122449</td>\n",
       "      <td>4.367347</td>\n",
       "    </tr>\n",
       "    <tr>\n",
       "      <td>12</td>\n",
       "      <td>1.224490</td>\n",
       "      <td>4.673469</td>\n",
       "    </tr>\n",
       "    <tr>\n",
       "      <td>13</td>\n",
       "      <td>1.326531</td>\n",
       "      <td>4.979592</td>\n",
       "    </tr>\n",
       "    <tr>\n",
       "      <td>14</td>\n",
       "      <td>1.428571</td>\n",
       "      <td>5.285714</td>\n",
       "    </tr>\n",
       "    <tr>\n",
       "      <td>15</td>\n",
       "      <td>1.530612</td>\n",
       "      <td>5.591837</td>\n",
       "    </tr>\n",
       "    <tr>\n",
       "      <td>16</td>\n",
       "      <td>1.632653</td>\n",
       "      <td>5.897959</td>\n",
       "    </tr>\n",
       "    <tr>\n",
       "      <td>17</td>\n",
       "      <td>1.734694</td>\n",
       "      <td>6.204082</td>\n",
       "    </tr>\n",
       "    <tr>\n",
       "      <td>18</td>\n",
       "      <td>1.836735</td>\n",
       "      <td>6.510204</td>\n",
       "    </tr>\n",
       "    <tr>\n",
       "      <td>19</td>\n",
       "      <td>1.938776</td>\n",
       "      <td>6.816327</td>\n",
       "    </tr>\n",
       "    <tr>\n",
       "      <td>20</td>\n",
       "      <td>2.040816</td>\n",
       "      <td>7.122449</td>\n",
       "    </tr>\n",
       "    <tr>\n",
       "      <td>21</td>\n",
       "      <td>2.142857</td>\n",
       "      <td>7.428571</td>\n",
       "    </tr>\n",
       "    <tr>\n",
       "      <td>22</td>\n",
       "      <td>2.244898</td>\n",
       "      <td>7.734694</td>\n",
       "    </tr>\n",
       "    <tr>\n",
       "      <td>23</td>\n",
       "      <td>2.346939</td>\n",
       "      <td>8.040816</td>\n",
       "    </tr>\n",
       "    <tr>\n",
       "      <td>24</td>\n",
       "      <td>2.448980</td>\n",
       "      <td>8.346939</td>\n",
       "    </tr>\n",
       "    <tr>\n",
       "      <td>25</td>\n",
       "      <td>2.551020</td>\n",
       "      <td>8.653061</td>\n",
       "    </tr>\n",
       "    <tr>\n",
       "      <td>26</td>\n",
       "      <td>2.653061</td>\n",
       "      <td>8.959184</td>\n",
       "    </tr>\n",
       "    <tr>\n",
       "      <td>27</td>\n",
       "      <td>2.755102</td>\n",
       "      <td>9.265306</td>\n",
       "    </tr>\n",
       "    <tr>\n",
       "      <td>28</td>\n",
       "      <td>2.857143</td>\n",
       "      <td>9.571429</td>\n",
       "    </tr>\n",
       "    <tr>\n",
       "      <td>29</td>\n",
       "      <td>2.959184</td>\n",
       "      <td>9.877551</td>\n",
       "    </tr>\n",
       "    <tr>\n",
       "      <td>30</td>\n",
       "      <td>3.061224</td>\n",
       "      <td>10.183673</td>\n",
       "    </tr>\n",
       "    <tr>\n",
       "      <td>31</td>\n",
       "      <td>3.163265</td>\n",
       "      <td>10.489796</td>\n",
       "    </tr>\n",
       "    <tr>\n",
       "      <td>32</td>\n",
       "      <td>3.265306</td>\n",
       "      <td>10.795918</td>\n",
       "    </tr>\n",
       "    <tr>\n",
       "      <td>33</td>\n",
       "      <td>3.367347</td>\n",
       "      <td>11.102041</td>\n",
       "    </tr>\n",
       "    <tr>\n",
       "      <td>34</td>\n",
       "      <td>3.469388</td>\n",
       "      <td>11.408163</td>\n",
       "    </tr>\n",
       "    <tr>\n",
       "      <td>35</td>\n",
       "      <td>3.571429</td>\n",
       "      <td>11.714286</td>\n",
       "    </tr>\n",
       "    <tr>\n",
       "      <td>36</td>\n",
       "      <td>3.673469</td>\n",
       "      <td>12.020408</td>\n",
       "    </tr>\n",
       "    <tr>\n",
       "      <td>37</td>\n",
       "      <td>3.775510</td>\n",
       "      <td>12.326531</td>\n",
       "    </tr>\n",
       "    <tr>\n",
       "      <td>38</td>\n",
       "      <td>3.877551</td>\n",
       "      <td>12.632653</td>\n",
       "    </tr>\n",
       "    <tr>\n",
       "      <td>39</td>\n",
       "      <td>3.979592</td>\n",
       "      <td>12.938776</td>\n",
       "    </tr>\n",
       "    <tr>\n",
       "      <td>40</td>\n",
       "      <td>4.081633</td>\n",
       "      <td>13.244898</td>\n",
       "    </tr>\n",
       "    <tr>\n",
       "      <td>41</td>\n",
       "      <td>4.183673</td>\n",
       "      <td>13.551020</td>\n",
       "    </tr>\n",
       "    <tr>\n",
       "      <td>42</td>\n",
       "      <td>4.285714</td>\n",
       "      <td>13.857143</td>\n",
       "    </tr>\n",
       "    <tr>\n",
       "      <td>43</td>\n",
       "      <td>4.387755</td>\n",
       "      <td>14.163265</td>\n",
       "    </tr>\n",
       "    <tr>\n",
       "      <td>44</td>\n",
       "      <td>4.489796</td>\n",
       "      <td>14.469388</td>\n",
       "    </tr>\n",
       "    <tr>\n",
       "      <td>45</td>\n",
       "      <td>4.591837</td>\n",
       "      <td>14.775510</td>\n",
       "    </tr>\n",
       "    <tr>\n",
       "      <td>46</td>\n",
       "      <td>4.693878</td>\n",
       "      <td>15.081633</td>\n",
       "    </tr>\n",
       "    <tr>\n",
       "      <td>47</td>\n",
       "      <td>4.795918</td>\n",
       "      <td>15.387755</td>\n",
       "    </tr>\n",
       "    <tr>\n",
       "      <td>48</td>\n",
       "      <td>4.897959</td>\n",
       "      <td>15.693878</td>\n",
       "    </tr>\n",
       "    <tr>\n",
       "      <td>49</td>\n",
       "      <td>5.000000</td>\n",
       "      <td>16.000000</td>\n",
       "    </tr>\n",
       "  </tbody>\n",
       "</table>\n",
       "</div>"
      ],
      "text/plain": [
       "           x          y\n",
       "0   0.000000   1.000000\n",
       "1   0.102041   1.306122\n",
       "2   0.204082   1.612245\n",
       "3   0.306122   1.918367\n",
       "4   0.408163   2.224490\n",
       "5   0.510204   2.530612\n",
       "6   0.612245   2.836735\n",
       "7   0.714286   3.142857\n",
       "8   0.816327   3.448980\n",
       "9   0.918367   3.755102\n",
       "10  1.020408   4.061224\n",
       "11  1.122449   4.367347\n",
       "12  1.224490   4.673469\n",
       "13  1.326531   4.979592\n",
       "14  1.428571   5.285714\n",
       "15  1.530612   5.591837\n",
       "16  1.632653   5.897959\n",
       "17  1.734694   6.204082\n",
       "18  1.836735   6.510204\n",
       "19  1.938776   6.816327\n",
       "20  2.040816   7.122449\n",
       "21  2.142857   7.428571\n",
       "22  2.244898   7.734694\n",
       "23  2.346939   8.040816\n",
       "24  2.448980   8.346939\n",
       "25  2.551020   8.653061\n",
       "26  2.653061   8.959184\n",
       "27  2.755102   9.265306\n",
       "28  2.857143   9.571429\n",
       "29  2.959184   9.877551\n",
       "30  3.061224  10.183673\n",
       "31  3.163265  10.489796\n",
       "32  3.265306  10.795918\n",
       "33  3.367347  11.102041\n",
       "34  3.469388  11.408163\n",
       "35  3.571429  11.714286\n",
       "36  3.673469  12.020408\n",
       "37  3.775510  12.326531\n",
       "38  3.877551  12.632653\n",
       "39  3.979592  12.938776\n",
       "40  4.081633  13.244898\n",
       "41  4.183673  13.551020\n",
       "42  4.285714  13.857143\n",
       "43  4.387755  14.163265\n",
       "44  4.489796  14.469388\n",
       "45  4.591837  14.775510\n",
       "46  4.693878  15.081633\n",
       "47  4.795918  15.387755\n",
       "48  4.897959  15.693878\n",
       "49  5.000000  16.000000"
      ]
     },
     "execution_count": 12,
     "metadata": {},
     "output_type": "execute_result"
    }
   ],
   "source": [
    "#Create my own data sets.\n",
    "x1 = np.linspace(0, 5, 50)\n",
    "y1 = 3 * x1 + 1\n",
    "vals1 = np.vstack([x1, y1]).T\n",
    "set1 = pd.DataFrame(data=vals1, columns=[\"x\", \"y\"])\n",
    "set1"
   ]
  },
  {
   "cell_type": "code",
   "execution_count": 14,
   "metadata": {},
   "outputs": [],
   "source": [
    "x2 = np.linspace(10, 10, 50)\n",
    "y2 = 2 * x2 + 5\n",
    "vals2 = np.vstack([x2, y2]).T\n",
    "set2 = pd.DataFrame(data=vals1, columns=[\"x\", \"y\"])\n",
    "\n",
    "x3 = np.linspace(3, 6, 50)\n",
    "y3 = 1 * x3 + 10\n",
    "vals3 = np.vstack([x2, y2]).T\n",
    "set3 = pd.DataFrame(data=vals3, columns=[\"x\", \"y\"])\n",
    "\n",
    "x4 = np.linspace(0, 4, 50)\n",
    "y4 = 1 * x4 - 1\n",
    "vals4 = np.vstack([x4, y4]).T\n",
    "set4 = pd.DataFrame(data=vals4, columns=[\"x\", \"y\"])"
   ]
  },
  {
   "cell_type": "code",
   "execution_count": 18,
   "metadata": {},
   "outputs": [
    {
     "data": {
      "text/html": [
       "<div>\n",
       "<style scoped>\n",
       "    .dataframe tbody tr th:only-of-type {\n",
       "        vertical-align: middle;\n",
       "    }\n",
       "\n",
       "    .dataframe tbody tr th {\n",
       "        vertical-align: top;\n",
       "    }\n",
       "\n",
       "    .dataframe thead th {\n",
       "        text-align: right;\n",
       "    }\n",
       "</style>\n",
       "<table border=\"1\" class=\"dataframe\">\n",
       "  <thead>\n",
       "    <tr style=\"text-align: right;\">\n",
       "      <th></th>\n",
       "      <th>x</th>\n",
       "      <th>y</th>\n",
       "    </tr>\n",
       "  </thead>\n",
       "  <tbody>\n",
       "    <tr>\n",
       "      <td>0</td>\n",
       "      <td>0.000000</td>\n",
       "      <td>1.000000</td>\n",
       "    </tr>\n",
       "    <tr>\n",
       "      <td>1</td>\n",
       "      <td>0.102041</td>\n",
       "      <td>1.306122</td>\n",
       "    </tr>\n",
       "    <tr>\n",
       "      <td>2</td>\n",
       "      <td>0.204082</td>\n",
       "      <td>1.612245</td>\n",
       "    </tr>\n",
       "    <tr>\n",
       "      <td>3</td>\n",
       "      <td>0.306122</td>\n",
       "      <td>1.918367</td>\n",
       "    </tr>\n",
       "    <tr>\n",
       "      <td>4</td>\n",
       "      <td>0.408163</td>\n",
       "      <td>2.224490</td>\n",
       "    </tr>\n",
       "    <tr>\n",
       "      <td>...</td>\n",
       "      <td>...</td>\n",
       "      <td>...</td>\n",
       "    </tr>\n",
       "    <tr>\n",
       "      <td>45</td>\n",
       "      <td>3.673469</td>\n",
       "      <td>2.673469</td>\n",
       "    </tr>\n",
       "    <tr>\n",
       "      <td>46</td>\n",
       "      <td>3.755102</td>\n",
       "      <td>2.755102</td>\n",
       "    </tr>\n",
       "    <tr>\n",
       "      <td>47</td>\n",
       "      <td>3.836735</td>\n",
       "      <td>2.836735</td>\n",
       "    </tr>\n",
       "    <tr>\n",
       "      <td>48</td>\n",
       "      <td>3.918367</td>\n",
       "      <td>2.918367</td>\n",
       "    </tr>\n",
       "    <tr>\n",
       "      <td>49</td>\n",
       "      <td>4.000000</td>\n",
       "      <td>3.000000</td>\n",
       "    </tr>\n",
       "  </tbody>\n",
       "</table>\n",
       "<p>200 rows × 2 columns</p>\n",
       "</div>"
      ],
      "text/plain": [
       "           x         y\n",
       "0   0.000000  1.000000\n",
       "1   0.102041  1.306122\n",
       "2   0.204082  1.612245\n",
       "3   0.306122  1.918367\n",
       "4   0.408163  2.224490\n",
       "..       ...       ...\n",
       "45  3.673469  2.673469\n",
       "46  3.755102  2.755102\n",
       "47  3.836735  2.836735\n",
       "48  3.918367  2.918367\n",
       "49  4.000000  3.000000\n",
       "\n",
       "[200 rows x 2 columns]"
      ]
     },
     "execution_count": 18,
     "metadata": {},
     "output_type": "execute_result"
    }
   ],
   "source": [
    "combined = pd.concat([set1, set2, set3, set4])\n",
    "combined"
   ]
  },
  {
   "cell_type": "code",
   "execution_count": 19,
   "metadata": {},
   "outputs": [
    {
     "data": {
      "image/png": "[encoded data removed]",
      "text/plain": [
       "<Figure size 360x360 with 1 Axes>"
      ]
     },
     "metadata": {},
     "output_type": "display_data"
    }
   ],
   "source": [
    "sns.lmplot(data=combined, x=\"x\", y=\"y\", ci=None)\n",
    "# adda whole data regression line\n",
    "sns.regplot('x','y', data=combined, color='black', scatter=False, ci=None)\n",
    "plt.show()\n",
    "# https://fairnessforensics.github.io/detect_simpsons_paradox/html/notebooks/simple_simpsons_paradox_intro.html"
   ]
  },
  {
   "cell_type": "markdown",
   "metadata": {},
   "source": [
    "https://en.wikipedia.org/wiki/Simpson%27s_paradox#:~:text=Simpson's%20paradox%2C%20which%20also%20goes,when%20these%20groups%20are%20combined.\n",
    "https://github.com/WillKoehrsen/Data-Analysis/blob/master/statistics/Simpson's%20Paradox.ipynb"
   ]
  },
  {
   "cell_type": "code",
   "execution_count": null,
   "metadata": {},
   "outputs": [],
   "source": []
  }
 ],
 "metadata": {
  "kernelspec": {
   "display_name": "Python 3",
   "language": "python",
   "name": "python3"
  },
  "language_info": {
   "codemirror_mode": {
    "name": "ipython",
    "version": 3
   },
   "file_extension": ".py",
   "mimetype": "text/x-python",
   "name": "python",
   "nbconvert_exporter": "python",
   "pygments_lexer": "ipython3",
   "version": "3.7.4"
  }
 },
 "nbformat": 4,
 "nbformat_minor": 2
}
