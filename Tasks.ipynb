{
 "cells": [
  {
   "cell_type": "markdown",
   "metadata": {},
   "source": [
    "# Tasks 2020 \n",
    "### [ Fundamentals of Data Analysis Module GMIT 2020 ]\n",
    "\n",
    "<img align=\"left\" width=\"300\" height=\"300\" src=\"https://www.wardyit.com/wp-content/uploads/data-analysis-fundamentals-using-excel.png\">"
   ]
  },
  {
   "cell_type": "markdown",
   "metadata": {},
   "source": [
    "Below are my solutions to the Task assessment.\n",
    "\n",
    "Completed by: *Olga Rozhdestvina (G00387844@gmit.ie)*\n",
    "___"
   ]
  },
  {
   "cell_type": "markdown",
   "metadata": {},
   "source": [
    "## Table of Contents\n",
    "* [Task 1](#task1)\n",
    "    * [Test of the function](#Test_of_the_function1)\n",
    "* [Task 2](#task2)\n",
    "    * [Test of the function](#Test_of_the_function2)\n",
    "* [Task 3](#task3)\n",
    "    * [Test of the function](#Test_of_the_function3)\n",
    "* [Task 4](#task4)\n",
    "    * [Test of the function](#Test_of_the_function4)\n",
    "___"
   ]
  },
  {
   "cell_type": "markdown",
   "metadata": {},
   "source": [
    "### __TASK 1__: *Dictionary of unique items with the number of appearance from a list.*  <a name=\"task1\"></a>\n",
    "\n",
    "For completion of this task I will iterate over the list checking on unique items as keys and then count and store the corresponding number of times each item appears as values in the dictionary. [1]\n",
    "\n",
    "> 1. https://www.geeksforgeeks.org/counting-the-frequencies-in-a-list-using-dictionary-in-python/"
   ]
  },
  {
   "cell_type": "code",
   "execution_count": 1,
   "metadata": {},
   "outputs": [],
   "source": [
    "def counts(l):\n",
    "    \"\"\"\n",
    "    Function that takes a list as an input and returns a dictionary of unique items with the number of appearance\n",
    "    \"\"\"\n",
    "    # Creating an empty dictionary\n",
    "    dic = {}\n",
    "    # Loop through items in the list\n",
    "    for i in l:\n",
    "        # Checking if items are in the dictionary\n",
    "        if i in dic:\n",
    "            # Count the number of times each item appears\n",
    "            dic[i] += 1\n",
    "        else:\n",
    "            dic[i] = 1\n",
    "    # Output the dictionary\n",
    "    return dic"
   ]
  },
  {
   "cell_type": "markdown",
   "metadata": {},
   "source": [
    "<br>\n",
    "\n",
    "##### Test of the function <a name=\"Test_of_the_function1\"></a>\n",
    "Here is a test of the above function with the proposed in the task list ['A', 'A', 'B', 'C', 'A']"
   ]
  },
  {
   "cell_type": "code",
   "execution_count": 2,
   "metadata": {},
   "outputs": [
    {
     "data": {
      "text/plain": [
       "{'A': 3, 'B': 1, 'C': 1}"
      ]
     },
     "execution_count": 2,
     "metadata": {},
     "output_type": "execute_result"
    }
   ],
   "source": [
    "counts(['A', 'A', 'B', 'C', 'A'])"
   ]
  },
  {
   "cell_type": "markdown",
   "metadata": {},
   "source": [
    "<br>\n",
    "\n",
    "***\n",
    "### __TASK 2__: *Dice roll simulation*  <a name=\"task2\"></a>\n",
    "\n",
    "<img align=\"left\" width=\"230\" height=\"90\" src=\"https://i.pinimg.com/originals/cd/18/f1/cd18f1c40c148545b66e9f6a851c98d2.jpg\">"
   ]
  },
  {
   "cell_type": "markdown",
   "metadata": {},
   "source": [
    "In order to simulate a randomly rolling $k$ dice $n$ number of times I will be using a function from $python.random$ called $randint$ that returns a random integer within a given range (in this cases dice sides) [1]. Alongside with randint I will be using the $sum$ function within the range of given parameter $k$. [2]\n",
    "\n",
    "To keep track of each total face value I will incorporate a function $counts$ from Task 1.\n",
    "\n",
    "> 1. [Python: random.randint](https://docs.python.org/3/library/random.html)\n",
    "2. [Stackoverflow: How to sum up values of a for range function in python](https://stackoverflow.com/questions/43528962/how-to-sum-up-values-of-a-for-range-function-in-python)"
   ]
  },
  {
   "cell_type": "markdown",
   "metadata": {},
   "source": [
    "#### General setup"
   ]
  },
  {
   "cell_type": "code",
   "execution_count": 3,
   "metadata": {},
   "outputs": [],
   "source": [
    "# For generating random numbers\n",
    "import random \n",
    "# Package for plotting.\n",
    "import matplotlib.pyplot as plt\n",
    "# Another package for plotting.\n",
    "import seaborn as sns"
   ]
  },
  {
   "cell_type": "code",
   "execution_count": 4,
   "metadata": {},
   "outputs": [],
   "source": [
    "# Colour scheme and styles for plots.\n",
    "sns.set_theme(palette=\"Paired\", context=\"paper\", font_scale=1.5)\n",
    "\n",
    "# Better sized plots.\n",
    "plt.rcParams['figure.figsize'] = (13, 9)"
   ]
  },
  {
   "cell_type": "markdown",
   "metadata": {},
   "source": [
    "<br>\n",
    "\n",
    "#### Dice simulation function "
   ]
  },
  {
   "cell_type": "code",
   "execution_count": 5,
   "metadata": {},
   "outputs": [],
   "source": [
    "def dicerolls(k, n):\n",
    "    \"\"\"\n",
    "    Function that simulates randomly rolling k dice n times\n",
    "    and keeps track of each total face value\n",
    "    \"\"\"\n",
    "    # Initialize the list of rolls\n",
    "    rolls = []\n",
    "    # Loop through the number of times the dice is rolled\n",
    "    for i in range(n):\n",
    "        # Choose randomly a number between 1 and 6, inclusively, within k range:\n",
    "        dice = sum(random.randint(1, 6) for j in range(k))\n",
    "        # Add to list of rolls\n",
    "        rolls.append(dice)\n",
    "    # Sort the list in ascending order. \n",
    "    rolls = sorted(rolls)\n",
    "    # Call a function counts from task 1\n",
    "    output = counts(rolls)\n",
    "    return output"
   ]
  },
  {
   "cell_type": "markdown",
   "metadata": {},
   "source": [
    "<br>\n",
    "\n",
    "#### Test of the function <a name=\"Test_of_the_function2\"></a>\n",
    "Here is a test of the above function where k number of dices is rolled n number of times"
   ]
  },
  {
   "cell_type": "code",
   "execution_count": 6,
   "metadata": {},
   "outputs": [
    {
     "data": {
      "text/plain": [
       "{2: 29,\n",
       " 3: 58,\n",
       " 4: 83,\n",
       " 5: 123,\n",
       " 6: 145,\n",
       " 7: 166,\n",
       " 8: 126,\n",
       " 9: 111,\n",
       " 10: 87,\n",
       " 11: 47,\n",
       " 12: 25}"
      ]
     },
     "execution_count": 6,
     "metadata": {},
     "output_type": "execute_result"
    }
   ],
   "source": [
    "dicerolls(2,1000)"
   ]
  },
  {
   "cell_type": "markdown",
   "metadata": {},
   "source": [
    "<br>\n",
    "\n",
    "#### Plot the output by rolling a diffent number of dice. "
   ]
  },
  {
   "cell_type": "code",
   "execution_count": 7,
   "metadata": {},
   "outputs": [
    {
     "data": {
      "image/png": "[encoded data removed]",
      "text/plain": [
       "<Figure size 936x648 with 4 Axes>"
      ]
     },
     "metadata": {},
     "output_type": "display_data"
    }
   ],
   "source": [
    "# Build 2x2 plots.\n",
    "fig, [[ax1, ax2],[ax3, ax4]] = plt.subplots(2,2, sharey=False)\n",
    "fig.suptitle(\"Dice roll simulation \", y=1.05)\n",
    "\n",
    "# Roll 1 Dice.\n",
    "k1 = 1\n",
    "n1 = 1000\n",
    "d = dicerolls(k1, n1)\n",
    "\n",
    "# Build a plot (by separating keys and values)\n",
    "ax1.bar(d.keys(), d.values())\n",
    "ax1.set_title(f\"{k1} dice rolled {n1} times\")\n",
    "\n",
    "#  2 Dice.\n",
    "k2 = 2\n",
    "n2 = 1000\n",
    "d = dicerolls(k2, n2)\n",
    "# Build a plot.\n",
    "ax2.bar(d.keys(), d.values())\n",
    "ax2.set_title(f\"{k2} dice rolled {n2} times\")\n",
    "\n",
    "# 5 Dice.\n",
    "k3 = 5\n",
    "n3 = 1000\n",
    "d = dicerolls(k3, n3)\n",
    "# Build a plot.\n",
    "ax3.bar(d.keys(), d.values())\n",
    "ax3.set_title(f\"{k3} dice rolled {n3} times\")\n",
    "\n",
    "# 10 Dice.\n",
    "k4 = 10\n",
    "n4 = 1000\n",
    "d = dicerolls(k4, n4)\n",
    "# Build a plot.\n",
    "ax4.bar(d.keys(), d.values())\n",
    "ax4.set_title(f\"{k4} dice rolled {n4} times\")\n",
    "\n",
    "# Clean up whitespace padding.\n",
    "fig.tight_layout()\n",
    "\n",
    "# Display plot.\n",
    "plt.show()"
   ]
  },
  {
   "cell_type": "markdown",
   "metadata": {},
   "source": [
    "***\n",
    "#### Conclusion on the above plots\n",
    "\n",
    "It can be seen that the graphs approach a normal distribution as the number of dice rolled is increased."
   ]
  },
  {
   "cell_type": "markdown",
   "metadata": {},
   "source": [
    "<br>\n",
    "\n",
    "***\n",
    "### __TASK 2__: *Flip a coin simulation*  <a name=\"task3\"></a>\n",
    "\n",
    "<br>\n",
    "\n",
    "<img align=\"left\" width=\"200\" height=\"60\" src=\"https://www.flaticon.com/svg/static/icons/svg/1715/1715539.svg\">"
   ]
  },
  {
   "cell_type": "markdown",
   "metadata": {},
   "source": [
    "<br>\n",
    "\n",
    "For simulation of a flipping a coin 100 times with a 50/50 chance of heads or tails I will be using a function [numpy.random.binomial](https://numpy.org/doc/stable/reference/random/generated/numpy.random.binomial.html) from [NumPy](https://numpy.org/) library. This function draws samples from a binomial distribution that has two possible outcomes: \"success\" or \"failure\", or in this case \"heads\" or \"tails\". [1]\n",
    "\n",
    "The function takes three parameters:\n",
    "* _n_ - a number of times coin is flipped,\n",
    "* _p_ - probability of getting heads or tails,\n",
    "* _size_ - a number of times we run the test. \n",
    "\n",
    "> 1. [Statistics How To: Binomial Distribution](https://www.statisticshowto.com/probability-and-statistics/binomial-theorem/binomial-distribution-formula/)"
   ]
  },
  {
   "cell_type": "markdown",
   "metadata": {},
   "source": [
    "#### General setup"
   ]
  },
  {
   "cell_type": "code",
   "execution_count": 8,
   "metadata": {},
   "outputs": [],
   "source": [
    "# Numpy to use numpy.random.binomial function\n",
    "import numpy as np"
   ]
  },
  {
   "cell_type": "markdown",
   "metadata": {},
   "source": [
    "<br>\n",
    "\n",
    "#### Flipping a coin simulation. "
   ]
  },
  {
   "cell_type": "code",
   "execution_count": 9,
   "metadata": {
    "scrolled": true
   },
   "outputs": [
    {
     "data": {
      "text/plain": [
       "array([43, 52, 54, 52, 56, 55, 49, 44, 54, 54, 56, 49, 50, 45, 50, 51, 55,\n",
       "       46, 52, 52, 44, 60, 50, 46, 53, 54, 48, 49, 57, 41, 44, 43, 47, 39,\n",
       "       52, 51, 44, 57, 53, 50, 43, 45, 44, 48, 46, 53, 46, 56, 41, 48, 49,\n",
       "       47, 53, 50, 47, 52, 52, 47, 47, 49, 49, 50, 44, 48, 49, 45, 47, 56,\n",
       "       49, 53, 38, 55, 56, 42, 55, 48, 53, 54, 50, 54, 56, 56, 43, 47, 41,\n",
       "       49, 43, 60, 46, 52, 55, 51, 48, 54, 51, 46, 46, 50, 43, 51, 55, 50,\n",
       "       46, 58, 51, 47, 47, 53, 52, 51, 53, 49, 41, 51, 52, 53, 55, 49, 48,\n",
       "       48, 54, 51, 51, 47, 59, 46, 45, 52, 57, 43, 46, 48, 54, 50, 47, 42,\n",
       "       55, 53, 51, 52, 55, 52, 53, 58, 53, 40, 52, 47, 51, 51, 52, 47, 44,\n",
       "       42, 53, 51, 52, 53, 49, 51, 55, 50, 58, 48, 52, 57, 52, 56, 54, 50,\n",
       "       49, 37, 51, 51, 51, 42, 50, 51, 50, 56, 53, 53, 45, 50, 52, 56, 49,\n",
       "       57, 57, 57, 59, 53, 51, 51, 37, 61, 44, 56, 52, 48, 50, 52, 52, 49,\n",
       "       44, 47, 53, 42, 51, 52, 52, 46, 44, 41, 56, 47, 51, 53, 43, 59, 45,\n",
       "       44, 51, 52, 45, 48, 48, 55, 52, 49, 50, 42, 55, 42, 43, 44, 50, 53,\n",
       "       47, 41, 48, 51, 52, 44, 47, 55, 54, 43, 47, 47, 47, 61, 44, 53, 46,\n",
       "       51, 36, 57, 51, 55, 43, 54, 48, 47, 49, 48, 41, 42, 53, 51, 60, 45,\n",
       "       48, 53, 44, 60, 51, 49, 60, 46, 50, 51, 49, 47, 47, 52, 47, 48, 43,\n",
       "       50, 57, 40, 49, 43, 52, 46, 41, 48, 43, 52, 48, 47, 47, 46, 48, 54,\n",
       "       48, 47, 49, 54, 49, 47, 58, 51, 47, 54, 47, 48, 47, 46, 50, 56, 56,\n",
       "       48, 48, 47, 39, 52, 50, 56, 58, 47, 47, 57, 49, 51, 52, 50, 48, 47,\n",
       "       43, 46, 52, 58, 52, 49, 48, 51, 47, 46, 58, 53, 47, 49, 48, 45, 44,\n",
       "       43, 43, 56, 53, 51, 55, 45, 47, 54, 51, 62, 48, 48, 47, 55, 58, 59,\n",
       "       56, 51, 47, 47, 56, 50, 46, 51, 60, 50, 60, 45, 47, 51, 57, 50, 46,\n",
       "       48, 44, 51, 58, 56, 55, 59, 53, 56, 45, 55, 48, 52, 50, 51, 54, 46,\n",
       "       52, 47, 52, 48, 43, 52, 50, 40, 58, 53, 49, 50, 44, 32, 55, 47, 51,\n",
       "       52, 53, 46, 42, 47, 50, 58, 53, 45, 54, 47, 51, 56, 45, 46, 51, 52,\n",
       "       47, 59, 51, 56, 62, 41, 52, 54, 59, 56, 52, 49, 53, 46, 48, 49, 47,\n",
       "       51, 48, 61, 61, 51, 45, 48, 57, 54, 54, 52, 56, 61, 55, 47, 55, 46,\n",
       "       43, 60, 47, 53, 52, 52, 44, 42, 58, 54, 50, 57, 50, 54, 55, 50, 49,\n",
       "       49, 48, 51, 59, 47, 50, 51, 55, 43, 55, 46, 51, 56, 48, 55, 51, 48,\n",
       "       52, 46, 40, 46, 42, 51, 54, 47, 60, 54, 52, 51, 55, 52, 44, 53, 43,\n",
       "       50, 48, 43, 45, 51, 53, 54, 57, 48, 46, 48, 35, 56, 55, 57, 54, 51,\n",
       "       47, 50, 54, 64, 53, 57, 51, 44, 47, 47, 44, 53, 44, 48, 44, 52, 51,\n",
       "       56, 56, 51, 51, 48, 51, 60, 42, 50, 49, 48, 46, 58, 58, 50, 56, 50,\n",
       "       54, 54, 53, 43, 43, 52, 45, 46, 50, 50, 55, 55, 49, 45, 62, 48, 48,\n",
       "       50, 53, 49, 59, 54, 45, 46, 50, 47, 44, 42, 51, 48, 36, 48, 57, 48,\n",
       "       51, 54, 47, 49, 46, 58, 44, 47, 53, 55, 55, 53, 45, 53, 58, 48, 46,\n",
       "       48, 53, 50, 51, 61, 50, 47, 59, 48, 52, 56, 43, 51, 47, 54, 55, 56,\n",
       "       46, 47, 48, 53, 60, 46, 48, 48, 45, 48, 53, 47, 50, 44, 55, 49, 51,\n",
       "       44, 40, 46, 42, 56, 47, 53, 50, 53, 53, 43, 53, 46, 41, 49, 49, 51,\n",
       "       47, 36, 45, 56, 47, 45, 49, 54, 49, 48, 48, 49, 51, 50, 52, 54, 58,\n",
       "       49, 48, 46, 55, 45, 49, 49, 38, 46, 52, 46, 42, 42, 55, 44, 45, 45,\n",
       "       51, 52, 52, 57, 49, 51, 49, 51, 54, 50, 51, 57, 43, 40, 48, 47, 47,\n",
       "       43, 45, 61, 51, 49, 48, 47, 58, 52, 47, 46, 41, 49, 56, 55, 54, 44,\n",
       "       48, 52, 48, 56, 51, 57, 46, 47, 42, 48, 54, 57, 45, 59, 52, 48, 60,\n",
       "       60, 55, 46, 50, 54, 53, 46, 55, 51, 49, 51, 51, 50, 54, 49, 49, 55,\n",
       "       48, 41, 48, 54, 53, 55, 57, 49, 59, 44, 46, 44, 48, 52, 45, 55, 51,\n",
       "       51, 43, 51, 48, 57, 56, 46, 46, 39, 44, 46, 43, 51, 52, 52, 55, 42,\n",
       "       54, 46, 54, 48, 53, 51, 45, 50, 49, 43, 55, 61, 49, 45, 51, 52, 62,\n",
       "       51, 60, 52, 52, 51, 48, 57, 41, 52, 44, 49, 58, 47, 52, 49, 50, 55,\n",
       "       37, 56, 58, 46, 51, 52, 51, 46, 54, 53, 47, 54, 55, 41, 42, 52, 54,\n",
       "       52, 52, 53, 47, 47, 44, 51, 51, 52, 50, 54, 53, 42, 49, 59, 59, 46,\n",
       "       50, 54, 50, 46, 56, 54, 50, 51, 53, 56, 50, 53, 52, 51, 45, 41, 40,\n",
       "       50, 51, 46, 48, 53, 48, 52, 57, 47, 58, 50, 58, 46, 52, 58, 48, 42,\n",
       "       48, 53, 55, 47, 50, 43, 56, 47, 56, 56, 47, 43, 57, 48, 52, 54, 56,\n",
       "       44, 53, 55, 52, 52, 56, 51, 53, 49, 50, 53, 49, 47, 55, 45, 46, 55,\n",
       "       55, 50, 41, 51, 51, 53, 48, 58, 55, 49, 53, 46, 46, 57, 57, 50, 58,\n",
       "       51, 50, 58, 44, 50, 49, 53, 48, 51, 56, 44, 54, 58, 52, 56, 45, 44,\n",
       "       48, 49, 57, 50, 42, 49, 49, 52, 53, 56, 49, 44, 50, 47])"
      ]
     },
     "execution_count": 9,
     "metadata": {},
     "output_type": "execute_result"
    }
   ],
   "source": [
    "# Flip a coin 100 times with a probability 0.5 of each trial tested 1000 times. \n",
    "n, p, size = 100, 0.5, 1000\n",
    "\n",
    "# Draw the samples.\n",
    "x = np.random.binomial(n, p, size)\n",
    "\n",
    "# Display the number of heads.\n",
    "x"
   ]
  },
  {
   "cell_type": "markdown",
   "metadata": {},
   "source": [
    "<br>\n",
    "\n",
    "#### Plot the output of flipping a coin 100 times."
   ]
  },
  {
   "cell_type": "code",
   "execution_count": 10,
   "metadata": {},
   "outputs": [
    {
     "data": {
      "image/png": "[encoded data removed]",
      "text/plain": [
       "<Figure size 936x648 with 1 Axes>"
      ]
     },
     "metadata": {},
     "output_type": "display_data"
    }
   ],
   "source": [
    "# Colour scheme for the plot.\n",
    "sns.set_theme(palette=\"autumn\")\n",
    "\n",
    "# Plot the array.\n",
    "fig, ax = plt.subplots()\n",
    "fig.suptitle(\"Flip a coin simulation 100 times\")\n",
    "\n",
    "sns.histplot(x, stat=\"probability\", kde=True, ax=ax).set_title(\"Test performed 1000 times\")\n",
    "ax.set_xlabel(\"Number of Heads\")\n",
    "\n",
    "# Show the plot.\n",
    "plt.show()"
   ]
  },
  {
   "cell_type": "markdown",
   "metadata": {},
   "source": [
    "***\n",
    "#### Conclusion on the above plot\n",
    "\n",
    "The plot of flip a coin simulator roughly follows a bell-shaped curve."
   ]
  }
 ],
 "metadata": {
  "kernelspec": {
   "display_name": "Python 3",
   "language": "python",
   "name": "python3"
  },
  "language_info": {
   "codemirror_mode": {
    "name": "ipython",
    "version": 3
   },
   "file_extension": ".py",
   "mimetype": "text/x-python",
   "name": "python",
   "nbconvert_exporter": "python",
   "pygments_lexer": "ipython3",
   "version": "3.7.4"
  }
 },
 "nbformat": 4,
 "nbformat_minor": 2
}
